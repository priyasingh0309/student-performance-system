{
 "cells": [
  {
   "cell_type": "code",
   "execution_count": 1,
   "id": "2922217c",
   "metadata": {},
   "outputs": [],
   "source": [
    "import pandas as pd\n",
    "import numpy as np\n",
    "import matplotlib.pyplot as plt\n",
    "import seaborn as sns\n",
    "import warnings \n",
    "warnings.filterwarnings(\"ignore\")"
   ]
  },
  {
   "cell_type": "code",
   "execution_count": 2,
   "id": "bb89c3ce",
   "metadata": {},
   "outputs": [
    {
     "data": {
      "text/html": [
       "<div>\n",
       "<style scoped>\n",
       "    .dataframe tbody tr th:only-of-type {\n",
       "        vertical-align: middle;\n",
       "    }\n",
       "\n",
       "    .dataframe tbody tr th {\n",
       "        vertical-align: top;\n",
       "    }\n",
       "\n",
       "    .dataframe thead th {\n",
       "        text-align: right;\n",
       "    }\n",
       "</style>\n",
       "<table border=\"1\" class=\"dataframe\">\n",
       "  <thead>\n",
       "    <tr style=\"text-align: right;\">\n",
       "      <th></th>\n",
       "      <th>Hours Studied</th>\n",
       "      <th>Previous Scores</th>\n",
       "      <th>Extracurricular Activities</th>\n",
       "      <th>Sleep Hours</th>\n",
       "      <th>Sample Question Papers Practiced</th>\n",
       "      <th>Performance Index</th>\n",
       "      <th>mobile_uses</th>\n",
       "    </tr>\n",
       "  </thead>\n",
       "  <tbody>\n",
       "    <tr>\n",
       "      <th>0</th>\n",
       "      <td>7</td>\n",
       "      <td>99</td>\n",
       "      <td>Yes</td>\n",
       "      <td>9</td>\n",
       "      <td>1</td>\n",
       "      <td>91.0</td>\n",
       "      <td>0.0</td>\n",
       "    </tr>\n",
       "    <tr>\n",
       "      <th>1</th>\n",
       "      <td>4</td>\n",
       "      <td>82</td>\n",
       "      <td>No</td>\n",
       "      <td>4</td>\n",
       "      <td>2</td>\n",
       "      <td>65.0</td>\n",
       "      <td>2.0</td>\n",
       "    </tr>\n",
       "    <tr>\n",
       "      <th>2</th>\n",
       "      <td>8</td>\n",
       "      <td>51</td>\n",
       "      <td>Yes</td>\n",
       "      <td>7</td>\n",
       "      <td>2</td>\n",
       "      <td>45.0</td>\n",
       "      <td>2.0</td>\n",
       "    </tr>\n",
       "    <tr>\n",
       "      <th>3</th>\n",
       "      <td>5</td>\n",
       "      <td>52</td>\n",
       "      <td>Yes</td>\n",
       "      <td>5</td>\n",
       "      <td>2</td>\n",
       "      <td>36.0</td>\n",
       "      <td>3.0</td>\n",
       "    </tr>\n",
       "    <tr>\n",
       "      <th>4</th>\n",
       "      <td>7</td>\n",
       "      <td>75</td>\n",
       "      <td>No</td>\n",
       "      <td>8</td>\n",
       "      <td>5</td>\n",
       "      <td>66.0</td>\n",
       "      <td>2.0</td>\n",
       "    </tr>\n",
       "    <tr>\n",
       "      <th>...</th>\n",
       "      <td>...</td>\n",
       "      <td>...</td>\n",
       "      <td>...</td>\n",
       "      <td>...</td>\n",
       "      <td>...</td>\n",
       "      <td>...</td>\n",
       "      <td>...</td>\n",
       "    </tr>\n",
       "    <tr>\n",
       "      <th>9995</th>\n",
       "      <td>1</td>\n",
       "      <td>49</td>\n",
       "      <td>Yes</td>\n",
       "      <td>4</td>\n",
       "      <td>2</td>\n",
       "      <td>23.0</td>\n",
       "      <td>3.0</td>\n",
       "    </tr>\n",
       "    <tr>\n",
       "      <th>9996</th>\n",
       "      <td>7</td>\n",
       "      <td>64</td>\n",
       "      <td>Yes</td>\n",
       "      <td>8</td>\n",
       "      <td>5</td>\n",
       "      <td>58.0</td>\n",
       "      <td>2.0</td>\n",
       "    </tr>\n",
       "    <tr>\n",
       "      <th>9997</th>\n",
       "      <td>6</td>\n",
       "      <td>83</td>\n",
       "      <td>Yes</td>\n",
       "      <td>8</td>\n",
       "      <td>5</td>\n",
       "      <td>74.0</td>\n",
       "      <td>1.0</td>\n",
       "    </tr>\n",
       "    <tr>\n",
       "      <th>9998</th>\n",
       "      <td>9</td>\n",
       "      <td>97</td>\n",
       "      <td>Yes</td>\n",
       "      <td>7</td>\n",
       "      <td>0</td>\n",
       "      <td>95.0</td>\n",
       "      <td>0.0</td>\n",
       "    </tr>\n",
       "    <tr>\n",
       "      <th>9999</th>\n",
       "      <td>7</td>\n",
       "      <td>74</td>\n",
       "      <td>No</td>\n",
       "      <td>8</td>\n",
       "      <td>1</td>\n",
       "      <td>64.0</td>\n",
       "      <td>2.0</td>\n",
       "    </tr>\n",
       "  </tbody>\n",
       "</table>\n",
       "<p>10000 rows × 7 columns</p>\n",
       "</div>"
      ],
      "text/plain": [
       "      Hours Studied  Previous Scores Extracurricular Activities  Sleep Hours  \\\n",
       "0                 7               99                        Yes            9   \n",
       "1                 4               82                         No            4   \n",
       "2                 8               51                        Yes            7   \n",
       "3                 5               52                        Yes            5   \n",
       "4                 7               75                         No            8   \n",
       "...             ...              ...                        ...          ...   \n",
       "9995              1               49                        Yes            4   \n",
       "9996              7               64                        Yes            8   \n",
       "9997              6               83                        Yes            8   \n",
       "9998              9               97                        Yes            7   \n",
       "9999              7               74                         No            8   \n",
       "\n",
       "      Sample Question Papers Practiced  Performance Index  mobile_uses  \n",
       "0                                    1               91.0          0.0  \n",
       "1                                    2               65.0          2.0  \n",
       "2                                    2               45.0          2.0  \n",
       "3                                    2               36.0          3.0  \n",
       "4                                    5               66.0          2.0  \n",
       "...                                ...                ...          ...  \n",
       "9995                                 2               23.0          3.0  \n",
       "9996                                 5               58.0          2.0  \n",
       "9997                                 5               74.0          1.0  \n",
       "9998                                 0               95.0          0.0  \n",
       "9999                                 1               64.0          2.0  \n",
       "\n",
       "[10000 rows x 7 columns]"
      ]
     },
     "execution_count": 2,
     "metadata": {},
     "output_type": "execute_result"
    }
   ],
   "source": [
    "df = pd.read_csv(r\"D:\\Codebook\\student_performence\\Student_Performance.csv\")\n",
    "df\n"
   ]
  },
  {
   "cell_type": "code",
   "execution_count": 3,
   "id": "7b136825",
   "metadata": {},
   "outputs": [
    {
     "data": {
      "text/plain": [
       "(10000, 7)"
      ]
     },
     "execution_count": 3,
     "metadata": {},
     "output_type": "execute_result"
    }
   ],
   "source": [
    "df.shape\n"
   ]
  },
  {
   "cell_type": "markdown",
   "id": "21345248",
   "metadata": {},
   "source": [
    "mobile uses \n",
    "* 0 hour - 91-100\n",
    "* 1 hour - 70-90\n",
    "* 2 hour - 40-69\n",
    "* 3 hour - 1-39"
   ]
  },
  {
   "cell_type": "code",
   "execution_count": 4,
   "id": "d6bf9d3a",
   "metadata": {},
   "outputs": [],
   "source": [
    "# import numpy as np\n",
    "\n",
    "# conditions = [\n",
    "#     (df['Performance Index'] >= 90.0),\n",
    "#     (df['Performance Index'] >= 70.0) & (df['Performance Index'] <= 89.0),\n",
    "#     (df['Performance Index'] >= 40.0) & (df['Performance Index'] <= 69.0),\n",
    "#     (df['Performance Index'] >= 1.0) & (df['Performance Index'] <= 39.0)\n",
    "# ]\n",
    "\n",
    "# values = [0, 1, 2, 3]\n",
    "\n",
    "# df['mobile_uses'] = np.select(conditions, values, default=np.nan)\n"
   ]
  },
  {
   "cell_type": "code",
   "execution_count": 5,
   "id": "864ebfce",
   "metadata": {},
   "outputs": [
    {
     "name": "stdout",
     "output_type": "stream",
     "text": [
      "<class 'pandas.core.frame.DataFrame'>\n",
      "RangeIndex: 10000 entries, 0 to 9999\n",
      "Data columns (total 7 columns):\n",
      " #   Column                            Non-Null Count  Dtype  \n",
      "---  ------                            --------------  -----  \n",
      " 0   Hours Studied                     10000 non-null  int64  \n",
      " 1   Previous Scores                   10000 non-null  int64  \n",
      " 2   Extracurricular Activities        10000 non-null  object \n",
      " 3   Sleep Hours                       10000 non-null  int64  \n",
      " 4   Sample Question Papers Practiced  10000 non-null  int64  \n",
      " 5   Performance Index                 10000 non-null  float64\n",
      " 6   mobile_uses                       10000 non-null  float64\n",
      "dtypes: float64(2), int64(4), object(1)\n",
      "memory usage: 547.0+ KB\n"
     ]
    }
   ],
   "source": [
    "df.info()"
   ]
  },
  {
   "cell_type": "code",
   "execution_count": 6,
   "id": "07755470",
   "metadata": {},
   "outputs": [
    {
     "data": {
      "text/html": [
       "<div>\n",
       "<style scoped>\n",
       "    .dataframe tbody tr th:only-of-type {\n",
       "        vertical-align: middle;\n",
       "    }\n",
       "\n",
       "    .dataframe tbody tr th {\n",
       "        vertical-align: top;\n",
       "    }\n",
       "\n",
       "    .dataframe thead th {\n",
       "        text-align: right;\n",
       "    }\n",
       "</style>\n",
       "<table border=\"1\" class=\"dataframe\">\n",
       "  <thead>\n",
       "    <tr style=\"text-align: right;\">\n",
       "      <th></th>\n",
       "      <th>Hours Studied</th>\n",
       "      <th>Previous Scores</th>\n",
       "      <th>Sleep Hours</th>\n",
       "      <th>Sample Question Papers Practiced</th>\n",
       "      <th>Performance Index</th>\n",
       "      <th>mobile_uses</th>\n",
       "    </tr>\n",
       "  </thead>\n",
       "  <tbody>\n",
       "    <tr>\n",
       "      <th>count</th>\n",
       "      <td>10000.000000</td>\n",
       "      <td>10000.000000</td>\n",
       "      <td>10000.000000</td>\n",
       "      <td>10000.000000</td>\n",
       "      <td>10000.000000</td>\n",
       "      <td>10000.000000</td>\n",
       "    </tr>\n",
       "    <tr>\n",
       "      <th>mean</th>\n",
       "      <td>4.992900</td>\n",
       "      <td>69.445700</td>\n",
       "      <td>6.530600</td>\n",
       "      <td>4.583300</td>\n",
       "      <td>55.224800</td>\n",
       "      <td>1.945800</td>\n",
       "    </tr>\n",
       "    <tr>\n",
       "      <th>std</th>\n",
       "      <td>2.589309</td>\n",
       "      <td>17.343152</td>\n",
       "      <td>1.695863</td>\n",
       "      <td>2.867348</td>\n",
       "      <td>19.212558</td>\n",
       "      <td>0.762706</td>\n",
       "    </tr>\n",
       "    <tr>\n",
       "      <th>min</th>\n",
       "      <td>1.000000</td>\n",
       "      <td>40.000000</td>\n",
       "      <td>4.000000</td>\n",
       "      <td>0.000000</td>\n",
       "      <td>10.000000</td>\n",
       "      <td>0.000000</td>\n",
       "    </tr>\n",
       "    <tr>\n",
       "      <th>25%</th>\n",
       "      <td>3.000000</td>\n",
       "      <td>54.000000</td>\n",
       "      <td>5.000000</td>\n",
       "      <td>2.000000</td>\n",
       "      <td>40.000000</td>\n",
       "      <td>1.000000</td>\n",
       "    </tr>\n",
       "    <tr>\n",
       "      <th>50%</th>\n",
       "      <td>5.000000</td>\n",
       "      <td>69.000000</td>\n",
       "      <td>7.000000</td>\n",
       "      <td>5.000000</td>\n",
       "      <td>55.000000</td>\n",
       "      <td>2.000000</td>\n",
       "    </tr>\n",
       "    <tr>\n",
       "      <th>75%</th>\n",
       "      <td>7.000000</td>\n",
       "      <td>85.000000</td>\n",
       "      <td>8.000000</td>\n",
       "      <td>7.000000</td>\n",
       "      <td>71.000000</td>\n",
       "      <td>2.000000</td>\n",
       "    </tr>\n",
       "    <tr>\n",
       "      <th>max</th>\n",
       "      <td>9.000000</td>\n",
       "      <td>99.000000</td>\n",
       "      <td>9.000000</td>\n",
       "      <td>9.000000</td>\n",
       "      <td>100.000000</td>\n",
       "      <td>3.000000</td>\n",
       "    </tr>\n",
       "  </tbody>\n",
       "</table>\n",
       "</div>"
      ],
      "text/plain": [
       "       Hours Studied  Previous Scores   Sleep Hours  \\\n",
       "count   10000.000000     10000.000000  10000.000000   \n",
       "mean        4.992900        69.445700      6.530600   \n",
       "std         2.589309        17.343152      1.695863   \n",
       "min         1.000000        40.000000      4.000000   \n",
       "25%         3.000000        54.000000      5.000000   \n",
       "50%         5.000000        69.000000      7.000000   \n",
       "75%         7.000000        85.000000      8.000000   \n",
       "max         9.000000        99.000000      9.000000   \n",
       "\n",
       "       Sample Question Papers Practiced  Performance Index   mobile_uses  \n",
       "count                      10000.000000       10000.000000  10000.000000  \n",
       "mean                           4.583300          55.224800      1.945800  \n",
       "std                            2.867348          19.212558      0.762706  \n",
       "min                            0.000000          10.000000      0.000000  \n",
       "25%                            2.000000          40.000000      1.000000  \n",
       "50%                            5.000000          55.000000      2.000000  \n",
       "75%                            7.000000          71.000000      2.000000  \n",
       "max                            9.000000         100.000000      3.000000  "
      ]
     },
     "execution_count": 6,
     "metadata": {},
     "output_type": "execute_result"
    }
   ],
   "source": [
    "df.describe()"
   ]
  },
  {
   "cell_type": "code",
   "execution_count": 7,
   "id": "0f94b2c5",
   "metadata": {},
   "outputs": [
    {
     "data": {
      "text/plain": [
       "Hours Studied                       0\n",
       "Previous Scores                     0\n",
       "Extracurricular Activities          0\n",
       "Sleep Hours                         0\n",
       "Sample Question Papers Practiced    0\n",
       "Performance Index                   0\n",
       "mobile_uses                         0\n",
       "dtype: int64"
      ]
     },
     "execution_count": 7,
     "metadata": {},
     "output_type": "execute_result"
    }
   ],
   "source": [
    "df.isnull().sum()"
   ]
  },
  {
   "cell_type": "markdown",
   "id": "9a0a6cc2",
   "metadata": {},
   "source": [
    "# checking imbalance"
   ]
  },
  {
   "cell_type": "code",
   "execution_count": 8,
   "id": "5e93fdc4",
   "metadata": {},
   "outputs": [
    {
     "data": {
      "image/png": "[encoded data removed]",
      "text/plain": [
       "<Figure size 432x288 with 1 Axes>"
      ]
     },
     "metadata": {
      "needs_background": "light"
     },
     "output_type": "display_data"
    },
    {
     "data": {
      "image/png": "[encoded data removed]",
      "text/plain": [
       "<Figure size 432x288 with 1 Axes>"
      ]
     },
     "metadata": {
      "needs_background": "light"
     },
     "output_type": "display_data"
    },
    {
     "data": {
      "image/png": "[encoded data removed]",
      "text/plain": [
       "<Figure size 432x288 with 1 Axes>"
      ]
     },
     "metadata": {
      "needs_background": "light"
     },
     "output_type": "display_data"
    },
    {
     "data": {
      "image/png": "[encoded data removed]",
      "text/plain": [
       "<Figure size 432x288 with 1 Axes>"
      ]
     },
     "metadata": {
      "needs_background": "light"
     },
     "output_type": "display_data"
    },
    {
     "data": {
      "image/png": "[encoded data removed]",
      "text/plain": [
       "<Figure size 432x288 with 1 Axes>"
      ]
     },
     "metadata": {
      "needs_background": "light"
     },
     "output_type": "display_data"
    },
    {
     "data": {
      "image/png": "[encoded data removed]",
      "text/plain": [
       "<Figure size 432x288 with 1 Axes>"
      ]
     },
     "metadata": {
      "needs_background": "light"
     },
     "output_type": "display_data"
    },
    {
     "data": {
      "image/png": "[encoded data removed]",
      "text/plain": [
       "<Figure size 432x288 with 1 Axes>"
      ]
     },
     "metadata": {
      "needs_background": "light"
     },
     "output_type": "display_data"
    }
   ],
   "source": [
    "for feature in df.columns:\n",
    "    df[feature].value_counts().plot.bar()\n",
    "    plt.title(feature)\n",
    "    plt.show()"
   ]
  },
  {
   "cell_type": "markdown",
   "id": "13e901f6",
   "metadata": {},
   "source": [
    "# checking outliers "
   ]
  },
  {
   "cell_type": "code",
   "execution_count": 9,
   "id": "57361172",
   "metadata": {},
   "outputs": [
    {
     "data": {
      "image/png": "[encoded data removed]",
      "text/plain": [
       "<Figure size 432x288 with 1 Axes>"
      ]
     },
     "metadata": {
      "needs_background": "light"
     },
     "output_type": "display_data"
    },
    {
     "data": {
      "image/png": "[encoded data removed]",
      "text/plain": [
       "<Figure size 432x288 with 1 Axes>"
      ]
     },
     "metadata": {
      "needs_background": "light"
     },
     "output_type": "display_data"
    },
    {
     "data": {
      "image/png": "[encoded data removed]",
      "text/plain": [
       "<Figure size 432x288 with 1 Axes>"
      ]
     },
     "metadata": {
      "needs_background": "light"
     },
     "output_type": "display_data"
    },
    {
     "data": {
      "image/png": "[encoded data removed]",
      "text/plain": [
       "<Figure size 432x288 with 1 Axes>"
      ]
     },
     "metadata": {
      "needs_background": "light"
     },
     "output_type": "display_data"
    },
    {
     "data": {
      "image/png": "[encoded data removed]",
      "text/plain": [
       "<Figure size 432x288 with 1 Axes>"
      ]
     },
     "metadata": {
      "needs_background": "light"
     },
     "output_type": "display_data"
    },
    {
     "data": {
      "image/png": "[encoded data removed]",
      "text/plain": [
       "<Figure size 432x288 with 1 Axes>"
      ]
     },
     "metadata": {
      "needs_background": "light"
     },
     "output_type": "display_data"
    }
   ],
   "source": [
    "for feature in df.select_dtypes(include='number'):\n",
    "    sns.boxplot(x=feature, data = df)\n",
    "    plt.show()"
   ]
  },
  {
   "cell_type": "markdown",
   "id": "eb9d059f",
   "metadata": {},
   "source": [
    "# checking skewness"
   ]
  },
  {
   "cell_type": "code",
   "execution_count": 10,
   "id": "4c3963da",
   "metadata": {},
   "outputs": [
    {
     "data": {
      "image/png": "[encoded data removed]",
      "text/plain": [
       "<Figure size 432x288 with 1 Axes>"
      ]
     },
     "metadata": {
      "needs_background": "light"
     },
     "output_type": "display_data"
    },
    {
     "data": {
      "image/png": "[encoded data removed]",
      "text/plain": [
       "<Figure size 432x288 with 1 Axes>"
      ]
     },
     "metadata": {
      "needs_background": "light"
     },
     "output_type": "display_data"
    },
    {
     "data": {
      "image/png": "[encoded data removed]",
      "text/plain": [
       "<Figure size 432x288 with 1 Axes>"
      ]
     },
     "metadata": {
      "needs_background": "light"
     },
     "output_type": "display_data"
    },
    {
     "data": {
      "image/png": "[encoded data removed]",
      "text/plain": [
       "<Figure size 432x288 with 1 Axes>"
      ]
     },
     "metadata": {
      "needs_background": "light"
     },
     "output_type": "display_data"
    },
    {
     "data": {
      "image/png": "[encoded data removed]",
      "text/plain": [
       "<Figure size 432x288 with 1 Axes>"
      ]
     },
     "metadata": {
      "needs_background": "light"
     },
     "output_type": "display_data"
    },
    {
     "data": {
      "image/png": "[encoded data removed]",
      "text/plain": [
       "<Figure size 432x288 with 1 Axes>"
      ]
     },
     "metadata": {
      "needs_background": "light"
     },
     "output_type": "display_data"
    }
   ],
   "source": [
    "for feature in df.select_dtypes(include='number'):\n",
    "    sns.kdeplot(x=feature, data=df)\n",
    "    plt.show()"
   ]
  },
  {
   "cell_type": "code",
   "execution_count": 11,
   "id": "265a8723",
   "metadata": {},
   "outputs": [
    {
     "data": {
      "text/plain": [
       "<AxesSubplot:>"
      ]
     },
     "execution_count": 11,
     "metadata": {},
     "output_type": "execute_result"
    },
    {
     "data": {
      "image/png": "[encoded data removed]",
      "text/plain": [
       "<Figure size 1440x1440 with 2 Axes>"
      ]
     },
     "metadata": {
      "needs_background": "light"
     },
     "output_type": "display_data"
    }
   ],
   "source": [
    "plt.figure(figsize=(20,20))\n",
    "correlation = df.corr()\n",
    "sns.heatmap(correlation, annot=True)"
   ]
  },
  {
   "cell_type": "markdown",
   "id": "fef49191",
   "metadata": {},
   "source": [
    "# encoding"
   ]
  },
  {
   "cell_type": "code",
   "execution_count": 12,
   "id": "2a84ee32",
   "metadata": {},
   "outputs": [],
   "source": [
    "for feature in df.select_dtypes(include='object'):\n",
    "    df[feature] = df[feature].astype('category')\n",
    "    df[feature] = df[feature].cat.codes"
   ]
  },
  {
   "cell_type": "code",
   "execution_count": 13,
   "id": "a415a111",
   "metadata": {},
   "outputs": [
    {
     "data": {
      "text/html": [
       "<div>\n",
       "<style scoped>\n",
       "    .dataframe tbody tr th:only-of-type {\n",
       "        vertical-align: middle;\n",
       "    }\n",
       "\n",
       "    .dataframe tbody tr th {\n",
       "        vertical-align: top;\n",
       "    }\n",
       "\n",
       "    .dataframe thead th {\n",
       "        text-align: right;\n",
       "    }\n",
       "</style>\n",
       "<table border=\"1\" class=\"dataframe\">\n",
       "  <thead>\n",
       "    <tr style=\"text-align: right;\">\n",
       "      <th></th>\n",
       "      <th>Hours Studied</th>\n",
       "      <th>Previous Scores</th>\n",
       "      <th>Extracurricular Activities</th>\n",
       "      <th>Sleep Hours</th>\n",
       "      <th>Sample Question Papers Practiced</th>\n",
       "      <th>Performance Index</th>\n",
       "      <th>mobile_uses</th>\n",
       "    </tr>\n",
       "  </thead>\n",
       "  <tbody>\n",
       "    <tr>\n",
       "      <th>0</th>\n",
       "      <td>7</td>\n",
       "      <td>99</td>\n",
       "      <td>1</td>\n",
       "      <td>9</td>\n",
       "      <td>1</td>\n",
       "      <td>91.0</td>\n",
       "      <td>0.0</td>\n",
       "    </tr>\n",
       "    <tr>\n",
       "      <th>1</th>\n",
       "      <td>4</td>\n",
       "      <td>82</td>\n",
       "      <td>0</td>\n",
       "      <td>4</td>\n",
       "      <td>2</td>\n",
       "      <td>65.0</td>\n",
       "      <td>2.0</td>\n",
       "    </tr>\n",
       "    <tr>\n",
       "      <th>2</th>\n",
       "      <td>8</td>\n",
       "      <td>51</td>\n",
       "      <td>1</td>\n",
       "      <td>7</td>\n",
       "      <td>2</td>\n",
       "      <td>45.0</td>\n",
       "      <td>2.0</td>\n",
       "    </tr>\n",
       "    <tr>\n",
       "      <th>3</th>\n",
       "      <td>5</td>\n",
       "      <td>52</td>\n",
       "      <td>1</td>\n",
       "      <td>5</td>\n",
       "      <td>2</td>\n",
       "      <td>36.0</td>\n",
       "      <td>3.0</td>\n",
       "    </tr>\n",
       "    <tr>\n",
       "      <th>4</th>\n",
       "      <td>7</td>\n",
       "      <td>75</td>\n",
       "      <td>0</td>\n",
       "      <td>8</td>\n",
       "      <td>5</td>\n",
       "      <td>66.0</td>\n",
       "      <td>2.0</td>\n",
       "    </tr>\n",
       "    <tr>\n",
       "      <th>...</th>\n",
       "      <td>...</td>\n",
       "      <td>...</td>\n",
       "      <td>...</td>\n",
       "      <td>...</td>\n",
       "      <td>...</td>\n",
       "      <td>...</td>\n",
       "      <td>...</td>\n",
       "    </tr>\n",
       "    <tr>\n",
       "      <th>9995</th>\n",
       "      <td>1</td>\n",
       "      <td>49</td>\n",
       "      <td>1</td>\n",
       "      <td>4</td>\n",
       "      <td>2</td>\n",
       "      <td>23.0</td>\n",
       "      <td>3.0</td>\n",
       "    </tr>\n",
       "    <tr>\n",
       "      <th>9996</th>\n",
       "      <td>7</td>\n",
       "      <td>64</td>\n",
       "      <td>1</td>\n",
       "      <td>8</td>\n",
       "      <td>5</td>\n",
       "      <td>58.0</td>\n",
       "      <td>2.0</td>\n",
       "    </tr>\n",
       "    <tr>\n",
       "      <th>9997</th>\n",
       "      <td>6</td>\n",
       "      <td>83</td>\n",
       "      <td>1</td>\n",
       "      <td>8</td>\n",
       "      <td>5</td>\n",
       "      <td>74.0</td>\n",
       "      <td>1.0</td>\n",
       "    </tr>\n",
       "    <tr>\n",
       "      <th>9998</th>\n",
       "      <td>9</td>\n",
       "      <td>97</td>\n",
       "      <td>1</td>\n",
       "      <td>7</td>\n",
       "      <td>0</td>\n",
       "      <td>95.0</td>\n",
       "      <td>0.0</td>\n",
       "    </tr>\n",
       "    <tr>\n",
       "      <th>9999</th>\n",
       "      <td>7</td>\n",
       "      <td>74</td>\n",
       "      <td>0</td>\n",
       "      <td>8</td>\n",
       "      <td>1</td>\n",
       "      <td>64.0</td>\n",
       "      <td>2.0</td>\n",
       "    </tr>\n",
       "  </tbody>\n",
       "</table>\n",
       "<p>10000 rows × 7 columns</p>\n",
       "</div>"
      ],
      "text/plain": [
       "      Hours Studied  Previous Scores  Extracurricular Activities  Sleep Hours  \\\n",
       "0                 7               99                           1            9   \n",
       "1                 4               82                           0            4   \n",
       "2                 8               51                           1            7   \n",
       "3                 5               52                           1            5   \n",
       "4                 7               75                           0            8   \n",
       "...             ...              ...                         ...          ...   \n",
       "9995              1               49                           1            4   \n",
       "9996              7               64                           1            8   \n",
       "9997              6               83                           1            8   \n",
       "9998              9               97                           1            7   \n",
       "9999              7               74                           0            8   \n",
       "\n",
       "      Sample Question Papers Practiced  Performance Index  mobile_uses  \n",
       "0                                    1               91.0          0.0  \n",
       "1                                    2               65.0          2.0  \n",
       "2                                    2               45.0          2.0  \n",
       "3                                    2               36.0          3.0  \n",
       "4                                    5               66.0          2.0  \n",
       "...                                ...                ...          ...  \n",
       "9995                                 2               23.0          3.0  \n",
       "9996                                 5               58.0          2.0  \n",
       "9997                                 5               74.0          1.0  \n",
       "9998                                 0               95.0          0.0  \n",
       "9999                                 1               64.0          2.0  \n",
       "\n",
       "[10000 rows x 7 columns]"
      ]
     },
     "execution_count": 13,
     "metadata": {},
     "output_type": "execute_result"
    }
   ],
   "source": [
    "df"
   ]
  },
  {
   "cell_type": "code",
   "execution_count": 14,
   "id": "c0ee9893",
   "metadata": {},
   "outputs": [],
   "source": [
    "# Modelling\n",
    "from sklearn.metrics import mean_squared_error, r2_score\n",
    "from sklearn.neighbors import KNeighborsRegressor\n",
    "from sklearn.tree import DecisionTreeRegressor\n",
    "from sklearn.ensemble import RandomForestRegressor\n",
    "from sklearn.ensemble import RandomForestRegressor, GradientBoostingRegressor, AdaBoostRegressor\n",
    "from sklearn.svm import SVR\n",
    "from sklearn.linear_model import LinearRegression,Lasso\n",
    "from sklearn.metrics import r2_score, mean_absolute_error, mean_squared_error\n",
    "from sklearn.model_selection import RandomizedSearchCV\n",
    "from xgboost import XGBRegressor \n",
    "import warnings"
   ]
  },
  {
   "cell_type": "code",
   "execution_count": 15,
   "id": "87eca337",
   "metadata": {},
   "outputs": [
    {
     "data": {
      "text/plain": [
       "((8000, 6), (2000, 6))"
      ]
     },
     "execution_count": 15,
     "metadata": {},
     "output_type": "execute_result"
    }
   ],
   "source": [
    "X = df.drop('Performance Index',axis=1)\n",
    "y=df['Performance Index']\n",
    "\n",
    "from sklearn.model_selection import train_test_split\n",
    "X_train, X_test, y_train, y_test = train_test_split(X,y,test_size=0.2,random_state=42)\n",
    "X_train.shape, X_test.shape"
   ]
  },
  {
   "cell_type": "code",
   "execution_count": 16,
   "id": "38a3df52",
   "metadata": {},
   "outputs": [
    {
     "data": {
      "text/html": [
       "<div>\n",
       "<style scoped>\n",
       "    .dataframe tbody tr th:only-of-type {\n",
       "        vertical-align: middle;\n",
       "    }\n",
       "\n",
       "    .dataframe tbody tr th {\n",
       "        vertical-align: top;\n",
       "    }\n",
       "\n",
       "    .dataframe thead th {\n",
       "        text-align: right;\n",
       "    }\n",
       "</style>\n",
       "<table border=\"1\" class=\"dataframe\">\n",
       "  <thead>\n",
       "    <tr style=\"text-align: right;\">\n",
       "      <th></th>\n",
       "      <th>Hours Studied</th>\n",
       "      <th>Previous Scores</th>\n",
       "      <th>Extracurricular Activities</th>\n",
       "      <th>Sleep Hours</th>\n",
       "      <th>Sample Question Papers Practiced</th>\n",
       "      <th>mobile_uses</th>\n",
       "    </tr>\n",
       "  </thead>\n",
       "  <tbody>\n",
       "    <tr>\n",
       "      <th>6252</th>\n",
       "      <td>5</td>\n",
       "      <td>69</td>\n",
       "      <td>0</td>\n",
       "      <td>8</td>\n",
       "      <td>2</td>\n",
       "      <td>2.0</td>\n",
       "    </tr>\n",
       "    <tr>\n",
       "      <th>4684</th>\n",
       "      <td>2</td>\n",
       "      <td>46</td>\n",
       "      <td>1</td>\n",
       "      <td>4</td>\n",
       "      <td>8</td>\n",
       "      <td>3.0</td>\n",
       "    </tr>\n",
       "    <tr>\n",
       "      <th>1731</th>\n",
       "      <td>7</td>\n",
       "      <td>56</td>\n",
       "      <td>1</td>\n",
       "      <td>7</td>\n",
       "      <td>5</td>\n",
       "      <td>2.0</td>\n",
       "    </tr>\n",
       "    <tr>\n",
       "      <th>4742</th>\n",
       "      <td>6</td>\n",
       "      <td>42</td>\n",
       "      <td>1</td>\n",
       "      <td>8</td>\n",
       "      <td>5</td>\n",
       "      <td>3.0</td>\n",
       "    </tr>\n",
       "    <tr>\n",
       "      <th>4521</th>\n",
       "      <td>7</td>\n",
       "      <td>53</td>\n",
       "      <td>0</td>\n",
       "      <td>4</td>\n",
       "      <td>6</td>\n",
       "      <td>2.0</td>\n",
       "    </tr>\n",
       "    <tr>\n",
       "      <th>...</th>\n",
       "      <td>...</td>\n",
       "      <td>...</td>\n",
       "      <td>...</td>\n",
       "      <td>...</td>\n",
       "      <td>...</td>\n",
       "      <td>...</td>\n",
       "    </tr>\n",
       "    <tr>\n",
       "      <th>6412</th>\n",
       "      <td>2</td>\n",
       "      <td>70</td>\n",
       "      <td>0</td>\n",
       "      <td>7</td>\n",
       "      <td>3</td>\n",
       "      <td>2.0</td>\n",
       "    </tr>\n",
       "    <tr>\n",
       "      <th>8285</th>\n",
       "      <td>4</td>\n",
       "      <td>79</td>\n",
       "      <td>0</td>\n",
       "      <td>9</td>\n",
       "      <td>3</td>\n",
       "      <td>2.0</td>\n",
       "    </tr>\n",
       "    <tr>\n",
       "      <th>7853</th>\n",
       "      <td>2</td>\n",
       "      <td>40</td>\n",
       "      <td>1</td>\n",
       "      <td>7</td>\n",
       "      <td>2</td>\n",
       "      <td>3.0</td>\n",
       "    </tr>\n",
       "    <tr>\n",
       "      <th>1095</th>\n",
       "      <td>3</td>\n",
       "      <td>83</td>\n",
       "      <td>0</td>\n",
       "      <td>7</td>\n",
       "      <td>5</td>\n",
       "      <td>2.0</td>\n",
       "    </tr>\n",
       "    <tr>\n",
       "      <th>6929</th>\n",
       "      <td>5</td>\n",
       "      <td>60</td>\n",
       "      <td>0</td>\n",
       "      <td>8</td>\n",
       "      <td>4</td>\n",
       "      <td>2.0</td>\n",
       "    </tr>\n",
       "  </tbody>\n",
       "</table>\n",
       "<p>2000 rows × 6 columns</p>\n",
       "</div>"
      ],
      "text/plain": [
       "      Hours Studied  Previous Scores  Extracurricular Activities  Sleep Hours  \\\n",
       "6252              5               69                           0            8   \n",
       "4684              2               46                           1            4   \n",
       "1731              7               56                           1            7   \n",
       "4742              6               42                           1            8   \n",
       "4521              7               53                           0            4   \n",
       "...             ...              ...                         ...          ...   \n",
       "6412              2               70                           0            7   \n",
       "8285              4               79                           0            9   \n",
       "7853              2               40                           1            7   \n",
       "1095              3               83                           0            7   \n",
       "6929              5               60                           0            8   \n",
       "\n",
       "      Sample Question Papers Practiced  mobile_uses  \n",
       "6252                                 2          2.0  \n",
       "4684                                 8          3.0  \n",
       "1731                                 5          2.0  \n",
       "4742                                 5          3.0  \n",
       "4521                                 6          2.0  \n",
       "...                                ...          ...  \n",
       "6412                                 3          2.0  \n",
       "8285                                 3          2.0  \n",
       "7853                                 2          3.0  \n",
       "1095                                 5          2.0  \n",
       "6929                                 4          2.0  \n",
       "\n",
       "[2000 rows x 6 columns]"
      ]
     },
     "execution_count": 16,
     "metadata": {},
     "output_type": "execute_result"
    }
   ],
   "source": [
    "X_test"
   ]
  },
  {
   "cell_type": "code",
   "execution_count": 17,
   "id": "57972fbe",
   "metadata": {},
   "outputs": [],
   "source": [
    "def evaluate_model(true, predicted):\n",
    "    mae = mean_absolute_error(true, predicted)\n",
    "    mse = mean_squared_error(true, predicted)\n",
    "    rmse = np.sqrt(mean_squared_error(true, predicted))\n",
    "    r2_square = r2_score(true, predicted)\n",
    "    return mae, mse, rmse, r2_square"
   ]
  },
  {
   "cell_type": "code",
   "execution_count": 18,
   "id": "9df16cce",
   "metadata": {},
   "outputs": [
    {
     "name": "stdout",
     "output_type": "stream",
     "text": [
      "Linear Regression\n",
      "Model performance for Training set\n",
      "- Root Mean Squared Error: 1.9783\n",
      "- Mean Squared Error: 3.9138\n",
      "- Mean Absolute Error: 1.5728\n",
      "- R2 Score: 0.9894\n",
      "----------------------------------\n",
      "Model performance for Test set\n",
      "- Root Mean Squared Error: 1.9768\n",
      "- Mean Squared Error: 3.9079\n",
      "- Mean Absolute Error: 1.5758\n",
      "- R2 Score: 0.9895\n",
      "===================================\n",
      "\n",
      "\n",
      "Lasso\n",
      "Model performance for Training set\n",
      "- Root Mean Squared Error: 2.2082\n",
      "- Mean Squared Error: 4.8759\n",
      "- Mean Absolute Error: 1.7562\n",
      "- R2 Score: 0.9868\n",
      "----------------------------------\n",
      "Model performance for Test set\n",
      "- Root Mean Squared Error: 2.2085\n",
      "- Mean Squared Error: 4.8776\n",
      "- Mean Absolute Error: 1.7527\n",
      "- R2 Score: 0.9868\n",
      "===================================\n",
      "\n",
      "\n",
      "K-Neighbors Regressor\n",
      "Model performance for Training set\n",
      "- Root Mean Squared Error: 1.9428\n",
      "- Mean Squared Error: 3.7744\n",
      "- Mean Absolute Error: 1.5471\n",
      "- R2 Score: 0.9898\n",
      "----------------------------------\n",
      "Model performance for Test set\n",
      "- Root Mean Squared Error: 2.3596\n",
      "- Mean Squared Error: 5.5676\n",
      "- Mean Absolute Error: 1.8859\n",
      "- R2 Score: 0.9850\n",
      "===================================\n",
      "\n",
      "\n",
      "Decision Tree\n",
      "Model performance for Training set\n",
      "- Root Mean Squared Error: 0.4431\n",
      "- Mean Squared Error: 0.1963\n",
      "- Mean Absolute Error: 0.1140\n",
      "- R2 Score: 0.9995\n",
      "----------------------------------\n",
      "Model performance for Test set\n",
      "- Root Mean Squared Error: 2.7471\n",
      "- Mean Squared Error: 7.5468\n",
      "- Mean Absolute Error: 2.1463\n",
      "- R2 Score: 0.9796\n",
      "===================================\n",
      "\n",
      "\n",
      "Random Forest Regressor\n",
      "Model performance for Training set\n",
      "- Root Mean Squared Error: 0.8841\n",
      "- Mean Squared Error: 0.7816\n",
      "- Mean Absolute Error: 0.6750\n",
      "- R2 Score: 0.9979\n",
      "----------------------------------\n",
      "Model performance for Test set\n",
      "- Root Mean Squared Error: 2.1484\n",
      "- Mean Squared Error: 4.6158\n",
      "- Mean Absolute Error: 1.7028\n",
      "- R2 Score: 0.9875\n",
      "===================================\n",
      "\n",
      "\n",
      "Gradient Boosting\n",
      "Model performance for Training set\n",
      "- Root Mean Squared Error: 2.1144\n",
      "- Mean Squared Error: 4.4708\n",
      "- Mean Absolute Error: 1.7213\n",
      "- R2 Score: 0.9879\n",
      "----------------------------------\n",
      "Model performance for Test set\n",
      "- Root Mean Squared Error: 2.1899\n",
      "- Mean Squared Error: 4.7955\n",
      "- Mean Absolute Error: 1.7845\n",
      "- R2 Score: 0.9871\n",
      "===================================\n",
      "\n",
      "\n",
      "XGBRegressor\n",
      "Model performance for Training set\n",
      "- Root Mean Squared Error: 1.5146\n",
      "- Mean Squared Error: 2.2939\n",
      "- Mean Absolute Error: 1.1777\n",
      "- R2 Score: 0.9938\n",
      "----------------------------------\n",
      "Model performance for Test set\n",
      "- Root Mean Squared Error: 2.0348\n",
      "- Mean Squared Error: 4.1402\n",
      "- Mean Absolute Error: 1.6078\n",
      "- R2 Score: 0.9888\n",
      "===================================\n",
      "\n",
      "\n",
      "AdaBoost Regressor\n",
      "Model performance for Training set\n",
      "- Root Mean Squared Error: 4.0901\n",
      "- Mean Squared Error: 16.7287\n",
      "- Mean Absolute Error: 3.3267\n",
      "- R2 Score: 0.9546\n",
      "----------------------------------\n",
      "Model performance for Test set\n",
      "- Root Mean Squared Error: 4.1795\n",
      "- Mean Squared Error: 17.4684\n",
      "- Mean Absolute Error: 3.4164\n",
      "- R2 Score: 0.9529\n",
      "===================================\n",
      "\n",
      "\n",
      "All Models:\n",
      "Linear Regression: R2 Score: 0.9895\n",
      "Lasso: R2 Score: 0.9868\n",
      "K-Neighbors Regressor: R2 Score: 0.9850\n",
      "Decision Tree: R2 Score: 0.9796\n",
      "Random Forest Regressor: R2 Score: 0.9875\n",
      "Gradient Boosting: R2 Score: 0.9871\n",
      "XGBRegressor: R2 Score: 0.9888\n",
      "AdaBoost Regressor: R2 Score: 0.9529\n"
     ]
    }
   ],
   "source": [
    "from sklearn.linear_model import LinearRegression, Lasso\n",
    "from sklearn.neighbors import KNeighborsRegressor\n",
    "from sklearn.tree import DecisionTreeRegressor\n",
    "from sklearn.ensemble import RandomForestRegressor, GradientBoostingRegressor, AdaBoostRegressor\n",
    "from xgboost import XGBRegressor\n",
    "\n",
    "# Assuming you have already defined the necessary functions 'evaluate_model' and imported the required libraries.\n",
    "\n",
    "models = {\n",
    "    \"Linear Regression\": LinearRegression(),\n",
    "    \"Lasso\": Lasso(),\n",
    "    \"K-Neighbors Regressor\": KNeighborsRegressor(),\n",
    "    \"Decision Tree\": DecisionTreeRegressor(),\n",
    "    \"Random Forest Regressor\": RandomForestRegressor(),\n",
    "    \"Gradient Boosting\": GradientBoostingRegressor(),\n",
    "    \"XGBRegressor\": XGBRegressor(),\n",
    "    \"AdaBoost Regressor\": AdaBoostRegressor()\n",
    "}\n",
    "\n",
    "model_list = []\n",
    "r2_list = []\n",
    "\n",
    "for model_name, model in models.items():\n",
    "    model.fit(X_train, y_train)  # Train model\n",
    "\n",
    "    # Make predictions\n",
    "    y_train_pred = model.predict(X_train)\n",
    "    y_test_pred = model.predict(X_test)\n",
    "\n",
    "    # Evaluate Train and Test dataset\n",
    "    model_train_mae, model_train_mse, model_train_rmse, model_train_r2 = evaluate_model(y_train, y_train_pred)\n",
    "    model_test_mae, model_test_mse, model_test_rmse, model_test_r2 = evaluate_model(y_test, y_test_pred)\n",
    "\n",
    "    print(model_name)\n",
    "    model_list.append(model_name)\n",
    "\n",
    "    print('Model performance for Training set')\n",
    "    print(\"- Root Mean Squared Error: {:.4f}\".format(model_train_rmse))\n",
    "    print(\"- Mean Squared Error: {:.4f}\".format(model_train_mse))\n",
    "    print(\"- Mean Absolute Error: {:.4f}\".format(model_train_mae))\n",
    "    print(\"- R2 Score: {:.4f}\".format(model_train_r2))\n",
    "\n",
    "    print('----------------------------------')\n",
    "    print('Model performance for Test set')\n",
    "    print(\"- Root Mean Squared Error: {:.4f}\".format(model_test_rmse))\n",
    "    print(\"- Mean Squared Error: {:.4f}\".format(model_test_mse))\n",
    "    print(\"- Mean Absolute Error: {:.4f}\".format(model_test_mae))\n",
    "    print(\"- R2 Score: {:.4f}\".format(model_test_r2))\n",
    "\n",
    "    r2_list.append(model_test_r2)\n",
    "    print('=' * 35)\n",
    "    print('\\n')\n",
    "\n",
    "# Print the results for all models outside the loop\n",
    "print(\"All Models:\")\n",
    "for model_name, r2_score in zip(model_list, r2_list):\n",
    "    print(f\"{model_name}: R2 Score: {r2_score:.4f}\")\n"
   ]
  },
  {
   "cell_type": "code",
   "execution_count": 19,
   "id": "f7acbac0",
   "metadata": {},
   "outputs": [
    {
     "name": "stdout",
     "output_type": "stream",
     "text": [
      "Linear Regression\n",
      "Best hyperparameters: {}\n",
      "Model performance for Training set\n",
      "- Root Mean Squared Error: 4.0901\n",
      "- Mean Squared Error: 16.7287\n",
      "- Mean Absolute Error: 3.3267\n",
      "<generator object <genexpr> at 0x000002A99786CC10>\n",
      "----------------------------------\n",
      "Model performance for Test set\n",
      "- Root Mean Squared Error: 1.9768\n",
      "- Mean Squared Error: 3.9079\n",
      "- Mean Absolute Error: 1.5758\n",
      "<generator object <genexpr> at 0x000002A99786CC10>\n",
      "===================================\n",
      "\n",
      "\n",
      "Lasso\n",
      "Best hyperparameters: {'alpha': 1}\n",
      "Model performance for Training set\n",
      "- Root Mean Squared Error: 4.0901\n",
      "- Mean Squared Error: 16.7287\n",
      "- Mean Absolute Error: 3.3267\n",
      "<generator object <genexpr> at 0x000002A99786C9E0>\n",
      "----------------------------------\n",
      "Model performance for Test set\n",
      "- Root Mean Squared Error: 2.2085\n",
      "- Mean Squared Error: 4.8776\n",
      "- Mean Absolute Error: 1.7527\n",
      "<generator object <genexpr> at 0x000002A99786C9E0>\n",
      "===================================\n",
      "\n",
      "\n",
      "K-Neighbors Regressor\n",
      "Best hyperparameters: {'n_neighbors': 7}\n",
      "Model performance for Training set\n",
      "- Root Mean Squared Error: 4.0901\n",
      "- Mean Squared Error: 16.7287\n",
      "- Mean Absolute Error: 3.3267\n",
      "<generator object <genexpr> at 0x000002A99786C5F0>\n",
      "----------------------------------\n",
      "Model performance for Test set\n",
      "- Root Mean Squared Error: 2.3125\n",
      "- Mean Squared Error: 5.3475\n",
      "- Mean Absolute Error: 1.8440\n",
      "<generator object <genexpr> at 0x000002A99786C5F0>\n",
      "===================================\n",
      "\n",
      "\n",
      "Decision Tree\n",
      "Best hyperparameters: {'criterion': 'poisson', 'max_depth': 7}\n",
      "Model performance for Training set\n",
      "- Root Mean Squared Error: 4.0901\n",
      "- Mean Squared Error: 16.7287\n",
      "- Mean Absolute Error: 3.3267\n",
      "<generator object <genexpr> at 0x000002A99786CC10>\n",
      "----------------------------------\n",
      "Model performance for Test set\n",
      "- Root Mean Squared Error: 2.6124\n",
      "- Mean Squared Error: 6.8246\n",
      "- Mean Absolute Error: 2.0481\n",
      "<generator object <genexpr> at 0x000002A99786CC10>\n",
      "===================================\n",
      "\n",
      "\n",
      "Random Forest Regressor\n",
      "Best hyperparameters: {'max_depth': 7, 'n_estimators': 128}\n",
      "Model performance for Training set\n",
      "- Root Mean Squared Error: 4.0901\n",
      "- Mean Squared Error: 16.7287\n",
      "- Mean Absolute Error: 3.3267\n",
      "<generator object <genexpr> at 0x000002A99786C9E0>\n",
      "----------------------------------\n",
      "Model performance for Test set\n",
      "- Root Mean Squared Error: 2.2572\n",
      "- Mean Squared Error: 5.0951\n",
      "- Mean Absolute Error: 1.8051\n",
      "<generator object <genexpr> at 0x000002A99786C9E0>\n",
      "===================================\n",
      "\n",
      "\n",
      "Gradient Boosting\n",
      "Best hyperparameters: {'learning_rate': 0.1, 'n_estimators': 256, 'subsample': 0.6}\n",
      "Model performance for Training set\n",
      "- Root Mean Squared Error: 4.0901\n",
      "- Mean Squared Error: 16.7287\n",
      "- Mean Absolute Error: 3.3267\n",
      "<generator object <genexpr> at 0x000002A99795E350>\n",
      "----------------------------------\n",
      "Model performance for Test set\n",
      "- Root Mean Squared Error: 1.9406\n",
      "- Mean Squared Error: 3.7660\n",
      "- Mean Absolute Error: 1.5467\n",
      "<generator object <genexpr> at 0x000002A99795E350>\n",
      "===================================\n",
      "\n",
      "\n",
      "XGBRegressor\n",
      "Best hyperparameters: {'learning_rate': 0.1, 'max_depth': 6, 'n_estimators': 100}\n",
      "Model performance for Training set\n",
      "- Root Mean Squared Error: 4.0901\n",
      "- Mean Squared Error: 16.7287\n",
      "- Mean Absolute Error: 3.3267\n",
      "<generator object <genexpr> at 0x000002A99786CB30>\n",
      "----------------------------------\n",
      "Model performance for Test set\n",
      "- Root Mean Squared Error: 1.9620\n",
      "- Mean Squared Error: 3.8495\n",
      "- Mean Absolute Error: 1.5560\n",
      "<generator object <genexpr> at 0x000002A99786C5F0>\n",
      "===================================\n",
      "\n",
      "\n",
      "AdaBoost Regressor\n",
      "Best hyperparameters: {'learning_rate': 0.5, 'n_estimators': 64}\n",
      "Model performance for Training set\n",
      "- Root Mean Squared Error: 4.0901\n",
      "- Mean Squared Error: 16.7287\n",
      "- Mean Absolute Error: 3.3267\n",
      "<generator object <genexpr> at 0x000002A9978C8DD0>\n",
      "----------------------------------\n",
      "Model performance for Test set\n",
      "- Root Mean Squared Error: 4.6883\n",
      "- Mean Squared Error: 21.9804\n",
      "- Mean Absolute Error: 3.8628\n",
      "<generator object <genexpr> at 0x000002A9978C8DD0>\n",
      "===================================\n",
      "\n",
      "\n",
      "All Models:\n",
      "Linear Regression: R2 Score: 0.9895\n",
      "Lasso: R2 Score: 0.9868\n",
      "K-Neighbors Regressor: R2 Score: 0.9856\n",
      "Decision Tree: R2 Score: 0.9816\n",
      "Random Forest Regressor: R2 Score: 0.9863\n",
      "Gradient Boosting: R2 Score: 0.9898\n",
      "XGBRegressor: R2 Score: 0.9896\n",
      "AdaBoost Regressor: R2 Score: 0.9407\n"
     ]
    }
   ],
   "source": [
    "from sklearn.model_selection import GridSearchCV, RandomizedSearchCV\n",
    "from sklearn.metrics import make_scorer, r2_score\n",
    "\n",
    "# Define hyperparameter ranges for each model\n",
    "param_grid = {\n",
    "    \"Linear Regression\": {},\n",
    "    \"Lasso\": {\"alpha\": [1]},\n",
    "    \"K-Neighbors Regressor\": {\"n_neighbors\": [3, 5, 7]},\n",
    "    \"Decision Tree\": {\"max_depth\": [3, 5, 7], 'criterion': ['mse', 'friedman_mse', 'mae', 'poisson']},\n",
    "    \"Random Forest Regressor\": {'n_estimators': [8, 16, 32, 64, 128], \"max_depth\": [3, 5, 7]},\n",
    "    \"Gradient Boosting\": {'learning_rate': [0.1, 0.01, 0.05, 0.001], 'subsample': [0.6, 0.7, 0.75, 0.8, 0.85, 0.9],\n",
    "                          'n_estimators': [8, 16, 32, 64, 128, 256]},\n",
    "    \"XGBRegressor\": {'max_depth': [6, 8, 10], 'learning_rate': [0.01, 0.05, 0.1], 'n_estimators': [30, 50, 100]},\n",
    "    \"AdaBoost Regressor\": {'learning_rate': [0.1, 0.01, 0.5, 0.001], 'n_estimators': [8, 16, 32, 64]}\n",
    "}\n",
    "\n",
    "model_list = []\n",
    "r2_list = []\n",
    "\n",
    "for model_name, model in models.items():\n",
    "    # Create a scorer object to use in grid search\n",
    "    scorer = make_scorer(r2_score)\n",
    "\n",
    "    # Perform grid search to find the best hyperparameters\n",
    "    grid_search = GridSearchCV(\n",
    "        model,\n",
    "        param_grid[model_name],\n",
    "        scoring=scorer,\n",
    "        cv=5,\n",
    "        n_jobs=-1\n",
    "    )\n",
    "\n",
    "    # Train the model with the best hyperparameters\n",
    "    grid_search.fit(X_train, y_train)\n",
    "    # Make predictions\n",
    "    y_train_pred = grid_search.predict(X_train)\n",
    "    y_test_pred = grid_search.predict(X_test)\n",
    "    # Evaluate Train and Test dataset model_train_mae, model_train_mse, model_train_rmse,\n",
    "    model_train_r2 = evaluate_model(y_train, y_train_pred)\n",
    "    model_test_mae, model_test_mse, model_test_rmse, model_test_r2 = evaluate_model(y_test, y_test_pred)\n",
    "    print(model_name)\n",
    "    model_list.append(model_name)\n",
    "    print('Best hyperparameters:', grid_search.best_params_)\n",
    "    print('Model performance for Training set')\n",
    "    print(\"- Root Mean Squared Error: {:.4f}\".format(model_train_rmse))\n",
    "    print(\"- Mean Squared Error: {:.4f}\".format(model_train_mse))\n",
    "    print(\"- Mean Absolute Error: {:.4f}\".format(model_train_mae))\n",
    "    print(\"- R2 Score: {:.4f}\".format(model_train_r2) for model_train_r2 in r2_list)\n",
    "    print('----------------------------------')\n",
    "    print('Model performance for Test set')\n",
    "    print(\"- Root Mean Squared Error: {:.4f}\".format(model_test_rmse))\n",
    "    print(\"- Mean Squared Error: {:.4f}\".format(model_test_mse))\n",
    "    print(\"- Mean Absolute Error: {:.4f}\".format(model_test_mae))\n",
    "    print(\"- R2 Score: {:.4f}\".format(model_test_r2) for model_test_r2 in r2_list)\n",
    "\n",
    "    r2_list.append(model_test_r2)\n",
    "    print('=' * 35)\n",
    "    print('\\n')\n",
    "\n",
    "# Print the results for all models outside the loop\n",
    "print(\"All Models:\")\n",
    "for model_name, r2_score in zip(model_list, r2_list):\n",
    "    print(f\"{model_name}: R2 Score: {r2_score:.4f}\")\n"
   ]
  },
  {
   "cell_type": "code",
   "execution_count": 20,
   "id": "98d8aa30",
   "metadata": {},
   "outputs": [
    {
     "data": {
      "text/html": [
       "<div>\n",
       "<style scoped>\n",
       "    .dataframe tbody tr th:only-of-type {\n",
       "        vertical-align: middle;\n",
       "    }\n",
       "\n",
       "    .dataframe tbody tr th {\n",
       "        vertical-align: top;\n",
       "    }\n",
       "\n",
       "    .dataframe thead th {\n",
       "        text-align: right;\n",
       "    }\n",
       "</style>\n",
       "<table border=\"1\" class=\"dataframe\">\n",
       "  <thead>\n",
       "    <tr style=\"text-align: right;\">\n",
       "      <th></th>\n",
       "      <th>Model Name</th>\n",
       "      <th>R2_Score</th>\n",
       "    </tr>\n",
       "  </thead>\n",
       "  <tbody>\n",
       "    <tr>\n",
       "      <th>5</th>\n",
       "      <td>Gradient Boosting</td>\n",
       "      <td>0.989838</td>\n",
       "    </tr>\n",
       "    <tr>\n",
       "      <th>6</th>\n",
       "      <td>XGBRegressor</td>\n",
       "      <td>0.989612</td>\n",
       "    </tr>\n",
       "    <tr>\n",
       "      <th>0</th>\n",
       "      <td>Linear Regression</td>\n",
       "      <td>0.989455</td>\n",
       "    </tr>\n",
       "    <tr>\n",
       "      <th>1</th>\n",
       "      <td>Lasso</td>\n",
       "      <td>0.986838</td>\n",
       "    </tr>\n",
       "    <tr>\n",
       "      <th>4</th>\n",
       "      <td>Random Forest Regressor</td>\n",
       "      <td>0.986251</td>\n",
       "    </tr>\n",
       "    <tr>\n",
       "      <th>2</th>\n",
       "      <td>K-Neighbors Regressor</td>\n",
       "      <td>0.985570</td>\n",
       "    </tr>\n",
       "    <tr>\n",
       "      <th>3</th>\n",
       "      <td>Decision Tree</td>\n",
       "      <td>0.981584</td>\n",
       "    </tr>\n",
       "    <tr>\n",
       "      <th>7</th>\n",
       "      <td>AdaBoost Regressor</td>\n",
       "      <td>0.940687</td>\n",
       "    </tr>\n",
       "  </tbody>\n",
       "</table>\n",
       "</div>"
      ],
      "text/plain": [
       "                Model Name  R2_Score\n",
       "5        Gradient Boosting  0.989838\n",
       "6             XGBRegressor  0.989612\n",
       "0        Linear Regression  0.989455\n",
       "1                    Lasso  0.986838\n",
       "4  Random Forest Regressor  0.986251\n",
       "2    K-Neighbors Regressor  0.985570\n",
       "3            Decision Tree  0.981584\n",
       "7       AdaBoost Regressor  0.940687"
      ]
     },
     "execution_count": 20,
     "metadata": {},
     "output_type": "execute_result"
    }
   ],
   "source": [
    "pd.DataFrame(list(zip(model_list, r2_list)), columns=['Model Name', 'R2_Score']).sort_values(by=[\"R2_Score\"],ascending=False)\n"
   ]
  },
  {
   "cell_type": "markdown",
   "id": "b7a5778b",
   "metadata": {},
   "source": [
    "# GradientBoostingRegressor"
   ]
  },
  {
   "cell_type": "code",
   "execution_count": 21,
   "id": "0497028e",
   "metadata": {},
   "outputs": [
    {
     "name": "stdout",
     "output_type": "stream",
     "text": [
      "**********\n",
      "**********\n",
      "R2 for train data 0.9903154015836928\n",
      "R2 for test data 0.9896766664335755\n",
      "**********\n",
      "RMSE for train data 1.889563346280541\n",
      "RMSE for test data 1.9559329659321427\n",
      "**********\n",
      "cv_score : 0.989490359434013\n",
      "**********\n"
     ]
    }
   ],
   "source": [
    "from sklearn.ensemble import GradientBoostingRegressor\n",
    "\n",
    "gbc = GradientBoostingRegressor(random_state=42, learning_rate=0.1, n_estimators=256, subsample=0.75)\n",
    "gbc.fit(X_train, y_train)\n",
    "\n",
    "print('*'*10)\n",
    "\n",
    "# prediction\n",
    "train_prediction= gbc.predict(X_train)\n",
    "test_prediction= gbc.predict(X_test)\n",
    "print('*'*10)\n",
    "# evaluation\n",
    "\n",
    "from sklearn.metrics import accuracy_score\n",
    "from sklearn.metrics import r2_score\n",
    "print('R2 for train data', r2_score(y_train,train_prediction))\n",
    "print('R2 for test data', r2_score(y_test,test_prediction))\n",
    "print('*'*10)\n",
    "\n",
    "print('RMSE for train data', np.sqrt(mean_squared_error(y_train,train_prediction)))\n",
    "print('RMSE for test data', np.sqrt(mean_squared_error(y_test,test_prediction)))\n",
    "\n",
    "print('*'*10)\n",
    "\n",
    "# cross validation score\n",
    "from sklearn.model_selection import cross_val_score\n",
    "score=cross_val_score(gbc,X,y,cv=5)\n",
    "print('cv_score :',score.mean())\n",
    "\n",
    "print('*'*10)"
   ]
  },
  {
   "cell_type": "markdown",
   "id": "e9a976ec",
   "metadata": {},
   "source": [
    "# XGBRegressor"
   ]
  },
  {
   "cell_type": "code",
   "execution_count": 22,
   "id": "7865c51f",
   "metadata": {},
   "outputs": [
    {
     "name": "stdout",
     "output_type": "stream",
     "text": [
      "**********\n",
      "**********\n",
      "R2 for train data 0.9918911889166255\n",
      "R2 for test data 0.9896124900882721\n",
      "**********\n",
      "RMSE for train data 1.7290169018930317\n",
      "RMSE for test data 1.962003202237153\n",
      "**********\n",
      "cv_score : 0.9893700326081702\n",
      "**********\n"
     ]
    }
   ],
   "source": [
    "from xgboost import XGBRegressor\n",
    "\n",
    "Xgb = XGBRegressor(random_state=42, learning_rate=0.1, max_depth=6, n_estimators=100)\n",
    "Xgb.fit(X_train, y_train)\n",
    "\n",
    "print('*'*10)\n",
    "\n",
    "# prediction\n",
    "train_prediction= Xgb.predict(X_train)\n",
    "test_prediction= Xgb.predict(X_test)\n",
    "print('*'*10)\n",
    "# evaluation\n",
    "\n",
    "from sklearn.metrics import accuracy_score\n",
    "from sklearn.metrics import r2_score\n",
    "print('R2 for train data', r2_score(y_train,train_prediction))\n",
    "print('R2 for test data', r2_score(y_test,test_prediction))\n",
    "print('*'*10)\n",
    "\n",
    "print('RMSE for train data', np.sqrt(mean_squared_error(y_train,train_prediction)))\n",
    "print('RMSE for test data', np.sqrt(mean_squared_error(y_test,test_prediction)))\n",
    "\n",
    "print('*'*10)\n",
    "\n",
    "# cross validation score\n",
    "from sklearn.model_selection import cross_val_score\n",
    "score=cross_val_score(Xgb,X,y,cv=5)\n",
    "print('cv_score :',score.mean())\n",
    "\n",
    "print('*'*10)"
   ]
  },
  {
   "cell_type": "markdown",
   "id": "c099d14a",
   "metadata": {},
   "source": [
    "# KN regressor"
   ]
  },
  {
   "cell_type": "code",
   "execution_count": 23,
   "id": "2ceda5bc",
   "metadata": {},
   "outputs": [
    {
     "name": "stdout",
     "output_type": "stream",
     "text": [
      "**********\n",
      "**********\n",
      "R2 for train data 0.9889868449650648\n",
      "R2 for test data 0.9855700891017932\n",
      "**********\n",
      "RMSE for train data 2.0150068364698934\n",
      "RMSE for test data 2.312468422288536\n",
      "**********\n",
      "cv_score : 0.9851115881967752\n",
      "**********\n"
     ]
    }
   ],
   "source": [
    "from sklearn.neighbors import KNeighborsRegressor\n",
    "\n",
    "knr = KNeighborsRegressor( n_neighbors=7)\n",
    "knr.fit(X_train, y_train)\n",
    "\n",
    "\n",
    "print('*'*10)\n",
    "\n",
    "# prediction\n",
    "train_prediction= knr.predict(X_train)\n",
    "test_prediction= knr.predict(X_test)\n",
    "print('*'*10)\n",
    "# evaluation\n",
    "\n",
    "from sklearn.metrics import accuracy_score\n",
    "from sklearn.metrics import r2_score\n",
    "print('R2 for train data', r2_score(y_train,train_prediction))\n",
    "print('R2 for test data', r2_score(y_test,test_prediction))\n",
    "print('*'*10)\n",
    "\n",
    "print('RMSE for train data', np.sqrt(mean_squared_error(y_train,train_prediction)))\n",
    "print('RMSE for test data', np.sqrt(mean_squared_error(y_test,test_prediction)))\n",
    "\n",
    "print('*'*10)\n",
    "\n",
    "# cross validation score\n",
    "from sklearn.model_selection import cross_val_score\n",
    "score=cross_val_score(knr,X,y,cv=5)\n",
    "print('cv_score :',score.mean())\n",
    "\n",
    "print('*'*10)"
   ]
  },
  {
   "cell_type": "markdown",
   "id": "1073627a",
   "metadata": {},
   "source": [
    "# random forest "
   ]
  },
  {
   "cell_type": "code",
   "execution_count": 24,
   "id": "4fa97c10",
   "metadata": {},
   "outputs": [
    {
     "name": "stdout",
     "output_type": "stream",
     "text": [
      "**********\n",
      "**********\n",
      "R2 for train data 0.9873278227725132\n",
      "R2 for test data 0.9860914631451541\n",
      "**********\n",
      "RMSE for train data 2.1614553398836436\n",
      "RMSE for test data 2.270307631961656\n",
      "**********\n",
      "cv_score : 0.9861202215461902\n",
      "**********\n"
     ]
    }
   ],
   "source": [
    "from sklearn.ensemble import RandomForestRegressor\n",
    "\n",
    "rfr = RandomForestRegressor(random_state=42, max_depth=7, n_estimators=128)\n",
    "rfr.fit(X_train, y_train)\n",
    "\n",
    "\n",
    "print('*'*10)\n",
    "\n",
    "# prediction\n",
    "train_prediction= rfr.predict(X_train)\n",
    "test_prediction= rfr.predict(X_test)\n",
    "print('*'*10)\n",
    "# evaluation\n",
    "\n",
    "from sklearn.metrics import accuracy_score\n",
    "from sklearn.metrics import r2_score\n",
    "print('R2 for train data', r2_score(y_train,train_prediction))\n",
    "print('R2 for test data', r2_score(y_test,test_prediction))\n",
    "print('*'*10)\n",
    "\n",
    "print('RMSE for train data', np.sqrt(mean_squared_error(y_train,train_prediction)))\n",
    "print('RMSE for test data', np.sqrt(mean_squared_error(y_test,test_prediction)))\n",
    "\n",
    "print('*'*10)\n",
    "\n",
    "# cross validation score\n",
    "from sklearn.model_selection import cross_val_score\n",
    "score=cross_val_score(rfr,X,y,cv=5)\n",
    "print('cv_score :',score.mean())\n",
    "\n",
    "print('*'*10)"
   ]
  },
  {
   "cell_type": "markdown",
   "id": "be39a03e",
   "metadata": {},
   "source": [
    "# decision tree regressor"
   ]
  },
  {
   "cell_type": "code",
   "execution_count": 25,
   "id": "2934ce9e",
   "metadata": {},
   "outputs": [
    {
     "name": "stdout",
     "output_type": "stream",
     "text": [
      "**********\n",
      "**********\n",
      "R2 for train data 0.9833037818409895\n",
      "R2 for test data 0.9819212500823847\n",
      "**********\n",
      "RMSE for train data 2.4810167873039086\n",
      "RMSE for test data 2.5883808907026093\n",
      "**********\n",
      "cv_score : 0.981639536504035\n",
      "**********\n"
     ]
    }
   ],
   "source": [
    "from sklearn.tree import DecisionTreeRegressor\n",
    "\n",
    "dt = DecisionTreeRegressor(random_state=42, max_depth= 7)\n",
    "dt.fit(X_train, y_train)\n",
    "\n",
    "print('*'*10)\n",
    "\n",
    "# prediction\n",
    "train_prediction= dt.predict(X_train)\n",
    "test_prediction= dt.predict(X_test)\n",
    "print('*'*10)\n",
    "# evaluation\n",
    "\n",
    "from sklearn.metrics import accuracy_score\n",
    "from sklearn.metrics import r2_score\n",
    "print('R2 for train data', r2_score(y_train,train_prediction))\n",
    "print('R2 for test data', r2_score(y_test,test_prediction))\n",
    "print('*'*10)\n",
    "\n",
    "print('RMSE for train data', np.sqrt(mean_squared_error(y_train,train_prediction)))\n",
    "print('RMSE for test data', np.sqrt(mean_squared_error(y_test,test_prediction)))\n",
    "\n",
    "print('*'*10)\n",
    "\n",
    "# cross validation score\n",
    "from sklearn.model_selection import cross_val_score\n",
    "score=cross_val_score(dt,X,y,cv=5)\n",
    "print('cv_score :',score.mean())\n",
    "\n",
    "print('*'*10)"
   ]
  },
  {
   "cell_type": "markdown",
   "id": "1a178f2d",
   "metadata": {},
   "source": [
    "# LinearRegression"
   ]
  },
  {
   "cell_type": "code",
   "execution_count": 26,
   "id": "13b1f07f",
   "metadata": {},
   "outputs": [
    {
     "name": "stdout",
     "output_type": "stream",
     "text": [
      "**********\n",
      "**********\n",
      "R2 for train data 0.9893840552915499\n",
      "R2 for test data 0.9894548427274829\n",
      "**********\n",
      "RMSE for train data 1.9783356239865373\n",
      "RMSE for test data 1.976835433483024\n",
      "**********\n",
      "cv_score : 0.9893848656934127\n",
      "**********\n"
     ]
    }
   ],
   "source": [
    "from sklearn.linear_model import LinearRegression\n",
    "\n",
    "lr = LinearRegression()\n",
    "lr.fit(X_train, y_train)\n",
    "\n",
    "print('*'*10)\n",
    "\n",
    "# prediction\n",
    "train_prediction= lr.predict(X_train)\n",
    "test_prediction= lr.predict(X_test)\n",
    "print('*'*10)\n",
    "# evaluation\n",
    "\n",
    "from sklearn.metrics import accuracy_score\n",
    "from sklearn.metrics import r2_score\n",
    "print('R2 for train data', r2_score(y_train,train_prediction))\n",
    "print('R2 for test data', r2_score(y_test,test_prediction))\n",
    "print('*'*10)\n",
    "\n",
    "print('RMSE for train data', np.sqrt(mean_squared_error(y_train,train_prediction)))\n",
    "print('RMSE for test data', np.sqrt(mean_squared_error(y_test,test_prediction)))\n",
    "\n",
    "print('*'*10)\n",
    "\n",
    "# cross validation score\n",
    "from sklearn.model_selection import cross_val_score\n",
    "score=cross_val_score(lr,X,y,cv=5)\n",
    "print('cv_score :',score.mean())\n",
    "\n",
    "print('*'*10)"
   ]
  },
  {
   "cell_type": "code",
   "execution_count": 27,
   "id": "baf33348",
   "metadata": {},
   "outputs": [],
   "source": [
    "test_res = y_test-test_prediction"
   ]
  },
  {
   "cell_type": "code",
   "execution_count": 28,
   "id": "b602100c",
   "metadata": {},
   "outputs": [
    {
     "data": {
      "image/png": "[encoded data removed]",
      "text/plain": [
       "<Figure size 432x288 with 1 Axes>"
      ]
     },
     "metadata": {
      "needs_background": "light"
     },
     "output_type": "display_data"
    }
   ],
   "source": [
    "plt.scatter(y_test,test_res)\n",
    "plt.xlabel('observed value')\n",
    "plt.ylabel('fitted value')\n",
    "plt.show()"
   ]
  },
  {
   "cell_type": "code",
   "execution_count": 29,
   "id": "4a234b59",
   "metadata": {},
   "outputs": [
    {
     "data": {
      "image/png": "[encoded data removed]",
      "text/plain": [
       "<Figure size 360x360 with 1 Axes>"
      ]
     },
     "metadata": {
      "needs_background": "light"
     },
     "output_type": "display_data"
    }
   ],
   "source": [
    "sns.displot(test_res,kde=True)\n",
    "plt.show()"
   ]
  },
  {
   "cell_type": "code",
   "execution_count": 30,
   "id": "14de9880",
   "metadata": {},
   "outputs": [
    {
     "data": {
      "image/png": "[encoded data removed]",
      "text/plain": [
       "<Figure size 432x288 with 1 Axes>"
      ]
     },
     "metadata": {
      "needs_background": "light"
     },
     "output_type": "display_data"
    }
   ],
   "source": [
    "plt.scatter(test_prediction,test_res, c='r')\n",
    "plt.axhline(y=0, color='blue')\n",
    "plt.xlabel('fitted value')\n",
    "plt.ylabel('residuals')\n",
    "plt.show()"
   ]
  },
  {
   "cell_type": "code",
   "execution_count": 31,
   "id": "63eba5a0",
   "metadata": {},
   "outputs": [
    {
     "data": {
      "text/html": [
       "<table class=\"simpletable\">\n",
       "<caption>OLS Regression Results</caption>\n",
       "<tr>\n",
       "  <th>Dep. Variable:</th>            <td>y</td>        <th>  R-squared:         </th> <td>   0.989</td> \n",
       "</tr>\n",
       "<tr>\n",
       "  <th>Model:</th>                   <td>OLS</td>       <th>  Adj. R-squared:    </th> <td>   0.989</td> \n",
       "</tr>\n",
       "<tr>\n",
       "  <th>Method:</th>             <td>Least Squares</td>  <th>  F-statistic:       </th> <td>1.555e+05</td>\n",
       "</tr>\n",
       "<tr>\n",
       "  <th>Date:</th>             <td>Tue, 25 Jul 2023</td> <th>  Prob (F-statistic):</th>  <td>  0.00</td>  \n",
       "</tr>\n",
       "<tr>\n",
       "  <th>Time:</th>                 <td>12:08:46</td>     <th>  Log-Likelihood:    </th> <td> -21009.</td> \n",
       "</tr>\n",
       "<tr>\n",
       "  <th>No. Observations:</th>      <td> 10000</td>      <th>  AIC:               </th> <td>4.203e+04</td>\n",
       "</tr>\n",
       "<tr>\n",
       "  <th>Df Residuals:</th>          <td>  9993</td>      <th>  BIC:               </th> <td>4.208e+04</td>\n",
       "</tr>\n",
       "<tr>\n",
       "  <th>Df Model:</th>              <td>     6</td>      <th>                     </th>     <td> </td>    \n",
       "</tr>\n",
       "<tr>\n",
       "  <th>Covariance Type:</th>      <td>nonrobust</td>    <th>                     </th>     <td> </td>    \n",
       "</tr>\n",
       "</table>\n",
       "<table class=\"simpletable\">\n",
       "<tr>\n",
       "      <td></td>         <th>coef</th>     <th>std err</th>      <th>t</th>      <th>P>|t|</th>  <th>[0.025</th>    <th>0.975]</th>  \n",
       "</tr>\n",
       "<tr>\n",
       "  <th>Intercept</th> <td>  -25.8123</td> <td>    0.356</td> <td>  -72.544</td> <td> 0.000</td> <td>  -26.510</td> <td>  -25.115</td>\n",
       "</tr>\n",
       "<tr>\n",
       "  <th>X[0]</th>      <td>    2.6835</td> <td>    0.010</td> <td>  261.548</td> <td> 0.000</td> <td>    2.663</td> <td>    2.704</td>\n",
       "</tr>\n",
       "<tr>\n",
       "  <th>X[1]</th>      <td>    0.9600</td> <td>    0.003</td> <td>  366.113</td> <td> 0.000</td> <td>    0.955</td> <td>    0.965</td>\n",
       "</tr>\n",
       "<tr>\n",
       "  <th>X[2]</th>      <td>    0.5717</td> <td>    0.040</td> <td>   14.430</td> <td> 0.000</td> <td>    0.494</td> <td>    0.649</td>\n",
       "</tr>\n",
       "<tr>\n",
       "  <th>X[3]</th>      <td>    0.4496</td> <td>    0.012</td> <td>   38.307</td> <td> 0.000</td> <td>    0.427</td> <td>    0.473</td>\n",
       "</tr>\n",
       "<tr>\n",
       "  <th>X[4]</th>      <td>    0.1814</td> <td>    0.007</td> <td>   26.219</td> <td> 0.000</td> <td>    0.168</td> <td>    0.195</td>\n",
       "</tr>\n",
       "<tr>\n",
       "  <th>X[5]</th>      <td>   -1.5821</td> <td>    0.064</td> <td>  -24.761</td> <td> 0.000</td> <td>   -1.707</td> <td>   -1.457</td>\n",
       "</tr>\n",
       "</table>\n",
       "<table class=\"simpletable\">\n",
       "<tr>\n",
       "  <th>Omnibus:</th>       <td> 4.876</td> <th>  Durbin-Watson:     </th> <td>   1.997</td>\n",
       "</tr>\n",
       "<tr>\n",
       "  <th>Prob(Omnibus):</th> <td> 0.087</td> <th>  Jarque-Bera (JB):  </th> <td>   5.097</td>\n",
       "</tr>\n",
       "<tr>\n",
       "  <th>Skew:</th>          <td> 0.025</td> <th>  Prob(JB):          </th> <td>  0.0782</td>\n",
       "</tr>\n",
       "<tr>\n",
       "  <th>Kurtosis:</th>      <td> 3.099</td> <th>  Cond. No.          </th> <td>1.32e+03</td>\n",
       "</tr>\n",
       "</table><br/><br/>Notes:<br/>[1] Standard Errors assume that the covariance matrix of the errors is correctly specified.<br/>[2] The condition number is large, 1.32e+03. This might indicate that there are<br/>strong multicollinearity or other numerical problems."
      ],
      "text/plain": [
       "<class 'statsmodels.iolib.summary.Summary'>\n",
       "\"\"\"\n",
       "                            OLS Regression Results                            \n",
       "==============================================================================\n",
       "Dep. Variable:                      y   R-squared:                       0.989\n",
       "Model:                            OLS   Adj. R-squared:                  0.989\n",
       "Method:                 Least Squares   F-statistic:                 1.555e+05\n",
       "Date:                Tue, 25 Jul 2023   Prob (F-statistic):               0.00\n",
       "Time:                        12:08:46   Log-Likelihood:                -21009.\n",
       "No. Observations:               10000   AIC:                         4.203e+04\n",
       "Df Residuals:                    9993   BIC:                         4.208e+04\n",
       "Df Model:                           6                                         \n",
       "Covariance Type:            nonrobust                                         \n",
       "==============================================================================\n",
       "                 coef    std err          t      P>|t|      [0.025      0.975]\n",
       "------------------------------------------------------------------------------\n",
       "Intercept    -25.8123      0.356    -72.544      0.000     -26.510     -25.115\n",
       "X[0]           2.6835      0.010    261.548      0.000       2.663       2.704\n",
       "X[1]           0.9600      0.003    366.113      0.000       0.955       0.965\n",
       "X[2]           0.5717      0.040     14.430      0.000       0.494       0.649\n",
       "X[3]           0.4496      0.012     38.307      0.000       0.427       0.473\n",
       "X[4]           0.1814      0.007     26.219      0.000       0.168       0.195\n",
       "X[5]          -1.5821      0.064    -24.761      0.000      -1.707      -1.457\n",
       "==============================================================================\n",
       "Omnibus:                        4.876   Durbin-Watson:                   1.997\n",
       "Prob(Omnibus):                  0.087   Jarque-Bera (JB):                5.097\n",
       "Skew:                           0.025   Prob(JB):                       0.0782\n",
       "Kurtosis:                       3.099   Cond. No.                     1.32e+03\n",
       "==============================================================================\n",
       "\n",
       "Notes:\n",
       "[1] Standard Errors assume that the covariance matrix of the errors is correctly specified.\n",
       "[2] The condition number is large, 1.32e+03. This might indicate that there are\n",
       "strong multicollinearity or other numerical problems.\n",
       "\"\"\""
      ]
     },
     "execution_count": 31,
     "metadata": {},
     "output_type": "execute_result"
    }
   ],
   "source": [
    "import statsmodels.formula.api as smf\n",
    "model2= smf.ols('y~X',data=df).fit()\n",
    "\n",
    "model2.summary()"
   ]
  },
  {
   "cell_type": "code",
   "execution_count": 32,
   "id": "0a469f21",
   "metadata": {},
   "outputs": [
    {
     "data": {
      "text/plain": [
       "array([51.985616])"
      ]
     },
     "execution_count": 32,
     "metadata": {},
     "output_type": "execute_result"
    }
   ],
   "source": [
    "# use model to make prediction on a new value\n",
    "\n",
    "lr.predict([[4,69,0,8,2,2]])"
   ]
  },
  {
   "cell_type": "code",
   "execution_count": 1,
   "id": "6267ae7a",
   "metadata": {},
   "outputs": [
    {
     "ename": "NameError",
     "evalue": "name 'lr' is not defined",
     "output_type": "error",
     "traceback": [
      "\u001b[1;31m---------------------------------------------------------------------------\u001b[0m",
      "\u001b[1;31mNameError\u001b[0m                                 Traceback (most recent call last)",
      "Cell \u001b[1;32mIn[1], line 1\u001b[0m\n\u001b[1;32m----> 1\u001b[0m model\u001b[39m=\u001b[39mlr()\n\u001b[0;32m      2\u001b[0m model\u001b[39m.\u001b[39mfit(X_train,y_train)\n\u001b[0;32m      3\u001b[0m \u001b[39m# Saving model to disk\u001b[39;00m\n",
      "\u001b[1;31mNameError\u001b[0m: name 'lr' is not defined"
     ]
    }
   ],
   "source": [
    "model=lr()\n",
    "model.fit(X_train,y_train)\n",
    "# Saving model to disk\n",
    "from pickle import dump\n",
    "dump(model,open('linear.pkl','wb'))"
   ]
  },
  {
   "cell_type": "code",
   "execution_count": null,
   "id": "b39c9edd",
   "metadata": {},
   "outputs": [],
   "source": []
  }
 ],
 "metadata": {
  "kernelspec": {
   "display_name": "Python 3 (ipykernel)",
   "language": "python",
   "name": "python3"
  },
  "language_info": {
   "codemirror_mode": {
    "name": "ipython",
    "version": 3
   },
   "file_extension": ".py",
   "mimetype": "text/x-python",
   "name": "python",
   "nbconvert_exporter": "python",
   "pygments_lexer": "ipython3",
   "version": "3.11.3"
  }
 },
 "nbformat": 4,
 "nbformat_minor": 5
}
